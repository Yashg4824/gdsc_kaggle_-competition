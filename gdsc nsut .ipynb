{
 "cells": [
  {
   "cell_type": "code",
   "execution_count": 2,
   "id": "b05062a6",
   "metadata": {},
   "outputs": [],
   "source": [
    "import numpy as np\n",
    "import pandas as pd\n",
    "import matplotlib.pyplot as plt\n",
    "from sklearn.linear_model import LinearRegression\n",
    "from sklearn.metrics import mean_squared_error\n",
    "from sklearn.preprocessing import StandardScaler\n",
    "from sklearn.model_selection import train_test_split\n",
    "from math import sqrt\n",
    "df =pd.read_csv(\"/Users/yashg4824/Downloads/train (7).csv\")\n",
    "df = df.drop(columns=[\"Unnamed: 0\"])\n",
    "x = df.drop(columns=[\"target\"])\n",
    "y = df[\"target\"]"
   ]
  },
  {
   "cell_type": "code",
   "execution_count": null,
   "id": "10c6c7cc",
   "metadata": {},
   "outputs": [],
   "source": [
    "x_train,x_test, y_train, y_test = train_test_split(x, y, test_size=0.02016, random_state=101)"
   ]
  },
  {
   "cell_type": "code",
   "execution_count": null,
   "id": "74628c74",
   "metadata": {},
   "outputs": [],
   "source": [
    "x_train_scaled = scaled.fit_transform(x_train)\n",
    "x_test_scaled = scaled.transform(x_test)\n",
    "model = LinearRegression()\n",
    "model.fit(x_train_scaled,y_train)\n",
    "y_train_pred = model.predict(x_train_scaled)\n",
    "y_test_pred = model.predict(x_test_scaled)\n",
    "train_mse = mean_squared_error(y_train,y_train_pred)\n",
    "print(\"RSME TRAIN:\",sqrt(train_mse))\n",
    "test_mse = mean_squared_error(y_test,y_test_pred)\n",
    "print(\"RSME TEST:\",sqrt(test_mse))\n",
    "df1 = pd.read_csv(\"/Users/yashg4824/Downloads/test (4).csv\")\n",
    "df1 = df1.drop(columns=[\"Unnamed: 0\"])\n",
    "x_final_test = df1\n",
    "x_final_test_scaled = scaled.transform(x_final_test)\n",
    "y_final_test_pred = model.predict(x_final_test_scaled)\n",
    "print(y_final_test_pred)"
   ]
  },
  {
   "cell_type": "code",
   "execution_count": null,
   "id": "39108b22",
   "metadata": {},
   "outputs": [],
   "source": [
    "np.savetxt('array_output110.csv', y_final_test_pred, delimiter=',', fmt='%.8f')"
   ]
  }
 ],
 "metadata": {
  "kernelspec": {
   "display_name": "Python 3 (ipykernel)",
   "language": "python",
   "name": "python3"
  },
  "language_info": {
   "codemirror_mode": {
    "name": "ipython",
    "version": 3
   },
   "file_extension": ".py",
   "mimetype": "text/x-python",
   "name": "python",
   "nbconvert_exporter": "python",
   "pygments_lexer": "ipython3",
   "version": "3.11.5"
  }
 },
 "nbformat": 4,
 "nbformat_minor": 5
}
